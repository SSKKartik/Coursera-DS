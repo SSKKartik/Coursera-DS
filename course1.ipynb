{
 "cells": [
  {
   "cell_type": "markdown",
   "id": "a4b0eb20-20ef-4047-b0b5-6c49385c0d17",
   "metadata": {},
   "source": [
    "PRACTICE EXERCISE 1 - COURSERA "
   ]
  },
  {
   "cell_type": "markdown",
   "id": "31eda2cb-f83d-4b34-b1b5-78e2b5078b90",
   "metadata": {},
   "source": [
    "INTRODUCTION"
   ]
  },
  {
   "cell_type": "markdown",
   "id": "b11f2c9d-29b7-4986-898f-a035ee978be3",
   "metadata": {},
   "source": [
    "Create a markdown cell to list data science languages\n",
    "\n",
    "1. **Python**\n",
    "2. **R**\n",
    "3. **SQL**\n",
    "4. **Java**\n",
    "5. **MATLAB**\n",
    "6. **C++**\n",
    "7. **JavaScript**"
   ]
  },
  {
   "cell_type": "markdown",
   "id": "2f088f34-c9af-497b-81f3-60b5a0f6fec6",
   "metadata": {},
   "source": [
    "Create a markdown cell to list data science libraries\n",
    "\n",
    "1. **pandas**\n",
    "2. **NumPy**\n",
    "3. **scikit-learn**\n",
    "4. **Matplotlib**\n",
    "5. **Seaborn**\n",
    "6. **TensorFlow**\n",
    "7. **Keras**\n",
    "8. **PyTorch**\n",
    "9. **SciPy**\n",
    "10. **NLTK**\n",
    "11. **Plotly**\n",
    "12. **SQLAlchemy**"
   ]
  },
  {
   "cell_type": "markdown",
   "id": "7dff554e-c97a-45e4-a5c6-f211c519b660",
   "metadata": {},
   "source": [
    " Table of Data Science tools\n",
    "\n",
    "| Tool           | Category             | Description                                              |\n",
    "|----------------|----------------------|----------------------------------------------------------|\n",
    "| Jupyter        | Notebooks            | Interactive computing environment for Python and R        |\n",
    "| Apache Hadoop  | Big Data             | Framework for distributed storage and processing of large data sets |\n",
    "| Apache Spark   | Big Data             | Unified analytics engine for big data processing          |\n",
    "| Tableau        | Visualization        | Data visualization tool for creating interactive dashboards |\n",
    "| Power BI       | Visualization        | Business analytics tool for visualizing data insights     |\n",
    "| GitHub         | Version Control      | Platform for version control and collaboration            |\n",
    "| Docker         | Containerization     | Tool to automate the deployment of applications in containers |\n",
    "| TensorFlow     | Machine Learning     | Open-source library for machine learning and deep learning |\n",
    "| Keras          | Machine Learning     | High-level neural networks API, running on top of TensorFlow |\n",
    "| Scikit-learn   | Machine Learning     | Library for machine learning in Python, focused on algorithms |\n",
    "| PyCaret        | Machine Learning     | Low-code machine learning library for automating workflows |\n",
    "| RStudio        | IDE for R            | Integrated development environment for R                   |\n",
    "| Anaconda       | Data Science Suite   | Distribution of Python and R for data science and machine learning |\n",
    "| SQL            | Database Management  | Language for managing and querying relational databases   |\n",
    "| D3.js          | Visualization        | JavaScript library for creating interactive data visualizations |\n",
    "| Flask          | Web Framework        | Web framework for building web applications in Python     |\n",
    "| Streamlit      | Web Framework        | Framework for creating data apps with Python              |\n",
    "| OpenCV         | Computer Vision      | Open-source library for computer vision and image processing |\n",
    "| AWS            | Cloud Computing      | Cloud platform offering services for data storage and analytics |\n",
    "| Google Cloud   | Cloud Computing      | Cloud platform for big data, machine learning, and analytics services |"
   ]
  },
  {
   "cell_type": "markdown",
   "id": "1ac8e9bb-a19d-449b-8f74-3a85c8478d93",
   "metadata": {},
   "source": [
    "Arithmetic Expression Examples\n",
    "\n",
    "1. **Addition**  \n",
    "   `5 + 3`  \n",
    "   Result: `8`\n",
    "\n",
    "2. **Subtraction**  \n",
    "   `9 - 4`  \n",
    "   Result: `5`\n",
    "\n",
    "3. **Multiplication**  \n",
    "   `6 * 7`  \n",
    "   Result: `42`\n",
    "\n",
    "4. **Division**  \n",
    "   `8 / 2`  \n",
    "   Result: `4`\n",
    "\n",
    "5. **Exponentiation**  \n",
    "   `2 ** 3`\n",
    "   Result: `8`\n",
    "\n",
    "6. **Modulus** (Remainder of division)  \n",
    "   `10 % 3`  \n",
    "   Result: `1` "
   ]
  },
  {
   "cell_type": "markdown",
   "id": "3630afe0-bdf9-4294-990f-c643671385dd",
   "metadata": {},
   "source": [
    "Code cell to Multiply and Add Numbers"
   ]
  },
  {
   "cell_type": "code",
   "execution_count": 3,
   "id": "cf825006-8c1c-433e-a541-b7a68c7fd659",
   "metadata": {},
   "outputs": [
    {
     "name": "stdout",
     "output_type": "stream",
     "text": [
      "Multiplication result: 50\n",
      "Final result (after addition): 52\n"
     ]
    }
   ],
   "source": [
    "# Define the numbers\n",
    "num1 = 5\n",
    "num2 = 10\n",
    "num3 = 2\n",
    "\n",
    "# Multiply num1 and num2\n",
    "multiplication_result = num1 * num2\n",
    "\n",
    "# Add the result to num3\n",
    "final_result = multiplication_result + num3\n",
    "\n",
    "# Output the results\n",
    "print(f\"Multiplication result: {multiplication_result}\")\n",
    "print(f\"Final result (after addition): {final_result}\")\n"
   ]
  },
  {
   "cell_type": "markdown",
   "id": "c1e39454-a1c0-44c5-8a55-355f53dfb7de",
   "metadata": {},
   "source": [
    "Code cell to convert minutes to hours"
   ]
  },
  {
   "cell_type": "code",
   "execution_count": 6,
   "id": "7c66f3e4-c5a9-48c5-91d8-c4ba889e8a5d",
   "metadata": {},
   "outputs": [
    {
     "name": "stdout",
     "output_type": "stream",
     "text": [
      "150 minutes is equal to 2.5 hours.\n"
     ]
    }
   ],
   "source": [
    "# Define the number of minutes\n",
    "minutes = 150\n",
    "\n",
    "# Convert minutes to hours\n",
    "hours = minutes / 60\n",
    "\n",
    "# Output the result\n",
    "print(f\"{minutes} minutes is equal to {hours} hours.\")\n"
   ]
  },
  {
   "cell_type": "markdown",
   "id": "28612248-6c45-459b-9697-e2e9093f137b",
   "metadata": {},
   "source": [
    " Objectives\r\n",
    "\r\n",
    "- Learn basic mathematical operations in Python (e.g., multiplication and addition).\r\n",
    "- Understand how to convert time units, such as minutes to hours.\r\n",
    "- Explore and familiarize with data science languages, libraries, and tools.\r\n"
   ]
  },
  {
   "cell_type": "markdown",
   "id": "f95b06ea-c322-49fb-8273-529a24512882",
   "metadata": {},
   "source": [
    "    Author\r\n",
    " This notebook was created by SSK Kartik].\r\n"
   ]
  },
  {
   "cell_type": "code",
   "execution_count": null,
   "id": "bca8922b-1889-4938-a9dc-fe5502ae5b62",
   "metadata": {},
   "outputs": [],
   "source": []
  }
 ],
 "metadata": {
  "kernelspec": {
   "display_name": "Python 3 (ipykernel)",
   "language": "python",
   "name": "python3"
  },
  "language_info": {
   "codemirror_mode": {
    "name": "ipython",
    "version": 3
   },
   "file_extension": ".py",
   "mimetype": "text/x-python",
   "name": "python",
   "nbconvert_exporter": "python",
   "pygments_lexer": "ipython3",
   "version": "3.12.4"
  }
 },
 "nbformat": 4,
 "nbformat_minor": 5
}
